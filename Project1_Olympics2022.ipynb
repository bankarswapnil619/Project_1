{
 "cells": [
  {
   "cell_type": "markdown",
   "id": "078028f6",
   "metadata": {},
   "source": [
    "# Project_1: Olympics2022"
   ]
  },
  {
   "cell_type": "markdown",
   "id": "32a8a525",
   "metadata": {},
   "source": [
    "### Medal table of NOC ranked by the number of medals won during the Olympics2022"
   ]
  },
  {
   "cell_type": "markdown",
   "id": "74d3c726",
   "metadata": {},
   "source": [
    "The Olympics2022.csv is a delimited text file containing the number of medals of teams in the 2022 Olympics in Beijing. Additionally it also contains the number of medals won per NOC in every modality.\n",
    "Data set from taken from https://www.kaggle.com/datasets/alpascali/olympics2022"
   ]
  },
  {
   "cell_type": "code",
   "execution_count": null,
   "id": "ef76644a",
   "metadata": {},
   "outputs": [],
   "source": [
    "#loading the required libraries"
   ]
  },
  {
   "cell_type": "code",
   "execution_count": 40,
   "id": "3f55fd4d",
   "metadata": {},
   "outputs": [],
   "source": [
    "import pandas as pd"
   ]
  },
  {
   "cell_type": "code",
   "execution_count": 41,
   "id": "d7b97ef3",
   "metadata": {},
   "outputs": [],
   "source": [
    "from matplotlib import pyplot as plt\n",
    "import seaborn as sns\n",
    "import numpy as np"
   ]
  },
  {
   "cell_type": "code",
   "execution_count": null,
   "id": "82944225",
   "metadata": {},
   "outputs": [],
   "source": [
    "# loding dataset and storing it to variable olympics"
   ]
  },
  {
   "cell_type": "code",
   "execution_count": 42,
   "id": "2f1ead53",
   "metadata": {},
   "outputs": [],
   "source": [
    "olympics=pd.read_csv(\"Olympics2022.csv\",sep=';')"
   ]
  },
  {
   "cell_type": "code",
   "execution_count": null,
   "id": "50c1163c",
   "metadata": {},
   "outputs": [],
   "source": [
    "# printing top 10 rows of dataframe"
   ]
  },
  {
   "cell_type": "code",
   "execution_count": 43,
   "id": "cbfd318f",
   "metadata": {},
   "outputs": [
    {
     "data": {
      "text/html": [
       "<div>\n",
       "<style scoped>\n",
       "    .dataframe tbody tr th:only-of-type {\n",
       "        vertical-align: middle;\n",
       "    }\n",
       "\n",
       "    .dataframe tbody tr th {\n",
       "        vertical-align: top;\n",
       "    }\n",
       "\n",
       "    .dataframe thead th {\n",
       "        text-align: right;\n",
       "    }\n",
       "</style>\n",
       "<table border=\"1\" class=\"dataframe\">\n",
       "  <thead>\n",
       "    <tr style=\"text-align: right;\">\n",
       "      <th></th>\n",
       "      <th>RANK</th>\n",
       "      <th>NOC CODE</th>\n",
       "      <th>NOC</th>\n",
       "      <th>Continent</th>\n",
       "      <th>Men Athletes</th>\n",
       "      <th>Women Athletes</th>\n",
       "      <th>Total Athletes</th>\n",
       "      <th>Gold</th>\n",
       "      <th>Silver</th>\n",
       "      <th>Bronze</th>\n",
       "      <th>...</th>\n",
       "      <th>Figure Skating</th>\n",
       "      <th>Freestyle Skiing</th>\n",
       "      <th>Ice Hockey</th>\n",
       "      <th>Luge</th>\n",
       "      <th>Nordic Combined</th>\n",
       "      <th>Short Trank Speed Skating</th>\n",
       "      <th>Skeleton</th>\n",
       "      <th>Sky Jumping</th>\n",
       "      <th>Snowboard</th>\n",
       "      <th>Speed Skating</th>\n",
       "    </tr>\n",
       "  </thead>\n",
       "  <tbody>\n",
       "    <tr>\n",
       "      <th>0</th>\n",
       "      <td>1.0</td>\n",
       "      <td>NOR</td>\n",
       "      <td>Norway</td>\n",
       "      <td>Europe</td>\n",
       "      <td>53</td>\n",
       "      <td>31</td>\n",
       "      <td>84</td>\n",
       "      <td>16</td>\n",
       "      <td>8</td>\n",
       "      <td>13</td>\n",
       "      <td>...</td>\n",
       "      <td>NaN</td>\n",
       "      <td>1.0</td>\n",
       "      <td>NaN</td>\n",
       "      <td>NaN</td>\n",
       "      <td>4.0</td>\n",
       "      <td>NaN</td>\n",
       "      <td>NaN</td>\n",
       "      <td>1.0</td>\n",
       "      <td>1.0</td>\n",
       "      <td>3.0</td>\n",
       "    </tr>\n",
       "    <tr>\n",
       "      <th>1</th>\n",
       "      <td>2.0</td>\n",
       "      <td>GER</td>\n",
       "      <td>Germany</td>\n",
       "      <td>Europe</td>\n",
       "      <td>96</td>\n",
       "      <td>49</td>\n",
       "      <td>145</td>\n",
       "      <td>12</td>\n",
       "      <td>10</td>\n",
       "      <td>5</td>\n",
       "      <td>...</td>\n",
       "      <td>NaN</td>\n",
       "      <td>1.0</td>\n",
       "      <td>NaN</td>\n",
       "      <td>6.0</td>\n",
       "      <td>2.0</td>\n",
       "      <td>NaN</td>\n",
       "      <td>3.0</td>\n",
       "      <td>3.0</td>\n",
       "      <td>NaN</td>\n",
       "      <td>NaN</td>\n",
       "    </tr>\n",
       "    <tr>\n",
       "      <th>2</th>\n",
       "      <td>3.0</td>\n",
       "      <td>CHN</td>\n",
       "      <td>People's Republic of China</td>\n",
       "      <td>Asia</td>\n",
       "      <td>94</td>\n",
       "      <td>86</td>\n",
       "      <td>180</td>\n",
       "      <td>9</td>\n",
       "      <td>4</td>\n",
       "      <td>2</td>\n",
       "      <td>...</td>\n",
       "      <td>1.0</td>\n",
       "      <td>6.0</td>\n",
       "      <td>NaN</td>\n",
       "      <td>NaN</td>\n",
       "      <td>NaN</td>\n",
       "      <td>4.0</td>\n",
       "      <td>1.0</td>\n",
       "      <td>NaN</td>\n",
       "      <td>2.0</td>\n",
       "      <td>1.0</td>\n",
       "    </tr>\n",
       "    <tr>\n",
       "      <th>3</th>\n",
       "      <td>4.0</td>\n",
       "      <td>USA</td>\n",
       "      <td>United States</td>\n",
       "      <td>North America</td>\n",
       "      <td>118</td>\n",
       "      <td>108</td>\n",
       "      <td>226</td>\n",
       "      <td>8</td>\n",
       "      <td>10</td>\n",
       "      <td>7</td>\n",
       "      <td>...</td>\n",
       "      <td>3.0</td>\n",
       "      <td>8.0</td>\n",
       "      <td>1.0</td>\n",
       "      <td>NaN</td>\n",
       "      <td>NaN</td>\n",
       "      <td>NaN</td>\n",
       "      <td>NaN</td>\n",
       "      <td>NaN</td>\n",
       "      <td>4.0</td>\n",
       "      <td>3.0</td>\n",
       "    </tr>\n",
       "    <tr>\n",
       "      <th>4</th>\n",
       "      <td>5.0</td>\n",
       "      <td>SWE</td>\n",
       "      <td>Sweden</td>\n",
       "      <td>Europe</td>\n",
       "      <td>62</td>\n",
       "      <td>59</td>\n",
       "      <td>121</td>\n",
       "      <td>8</td>\n",
       "      <td>5</td>\n",
       "      <td>5</td>\n",
       "      <td>...</td>\n",
       "      <td>2.0</td>\n",
       "      <td>2.0</td>\n",
       "      <td>NaN</td>\n",
       "      <td>NaN</td>\n",
       "      <td>NaN</td>\n",
       "      <td>NaN</td>\n",
       "      <td>NaN</td>\n",
       "      <td>NaN</td>\n",
       "      <td>NaN</td>\n",
       "      <td>2.0</td>\n",
       "    </tr>\n",
       "    <tr>\n",
       "      <th>5</th>\n",
       "      <td>6.0</td>\n",
       "      <td>NED</td>\n",
       "      <td>Netherlands</td>\n",
       "      <td>Europe</td>\n",
       "      <td>21</td>\n",
       "      <td>20</td>\n",
       "      <td>41</td>\n",
       "      <td>8</td>\n",
       "      <td>5</td>\n",
       "      <td>4</td>\n",
       "      <td>...</td>\n",
       "      <td>NaN</td>\n",
       "      <td>NaN</td>\n",
       "      <td>NaN</td>\n",
       "      <td>NaN</td>\n",
       "      <td>NaN</td>\n",
       "      <td>4.0</td>\n",
       "      <td>1.0</td>\n",
       "      <td>NaN</td>\n",
       "      <td>NaN</td>\n",
       "      <td>12.0</td>\n",
       "    </tr>\n",
       "    <tr>\n",
       "      <th>6</th>\n",
       "      <td>7.0</td>\n",
       "      <td>AUT</td>\n",
       "      <td>Austria</td>\n",
       "      <td>Europe</td>\n",
       "      <td>62</td>\n",
       "      <td>42</td>\n",
       "      <td>104</td>\n",
       "      <td>7</td>\n",
       "      <td>7</td>\n",
       "      <td>4</td>\n",
       "      <td>...</td>\n",
       "      <td>NaN</td>\n",
       "      <td>NaN</td>\n",
       "      <td>NaN</td>\n",
       "      <td>3.0</td>\n",
       "      <td>1.0</td>\n",
       "      <td>NaN</td>\n",
       "      <td>NaN</td>\n",
       "      <td>2.0</td>\n",
       "      <td>4.0</td>\n",
       "      <td>NaN</td>\n",
       "    </tr>\n",
       "    <tr>\n",
       "      <th>7</th>\n",
       "      <td>8.0</td>\n",
       "      <td>SUI</td>\n",
       "      <td>Switzerland</td>\n",
       "      <td>Europe</td>\n",
       "      <td>92</td>\n",
       "      <td>75</td>\n",
       "      <td>167</td>\n",
       "      <td>7</td>\n",
       "      <td>2</td>\n",
       "      <td>5</td>\n",
       "      <td>...</td>\n",
       "      <td>NaN</td>\n",
       "      <td>4.0</td>\n",
       "      <td>NaN</td>\n",
       "      <td>NaN</td>\n",
       "      <td>NaN</td>\n",
       "      <td>NaN</td>\n",
       "      <td>NaN</td>\n",
       "      <td>NaN</td>\n",
       "      <td>1.0</td>\n",
       "      <td>NaN</td>\n",
       "    </tr>\n",
       "    <tr>\n",
       "      <th>8</th>\n",
       "      <td>9.0</td>\n",
       "      <td>ROC</td>\n",
       "      <td>Russian Olympic Committee</td>\n",
       "      <td>Europe/Asia</td>\n",
       "      <td>110</td>\n",
       "      <td>104</td>\n",
       "      <td>214</td>\n",
       "      <td>6</td>\n",
       "      <td>12</td>\n",
       "      <td>14</td>\n",
       "      <td>...</td>\n",
       "      <td>6.0</td>\n",
       "      <td>3.0</td>\n",
       "      <td>1.0</td>\n",
       "      <td>NaN</td>\n",
       "      <td>NaN</td>\n",
       "      <td>2.0</td>\n",
       "      <td>NaN</td>\n",
       "      <td>1.0</td>\n",
       "      <td>1.0</td>\n",
       "      <td>2.0</td>\n",
       "    </tr>\n",
       "    <tr>\n",
       "      <th>9</th>\n",
       "      <td>10.0</td>\n",
       "      <td>FRA</td>\n",
       "      <td>France</td>\n",
       "      <td>Europe</td>\n",
       "      <td>50</td>\n",
       "      <td>36</td>\n",
       "      <td>86</td>\n",
       "      <td>5</td>\n",
       "      <td>7</td>\n",
       "      <td>2</td>\n",
       "      <td>...</td>\n",
       "      <td>1.0</td>\n",
       "      <td>1.0</td>\n",
       "      <td>NaN</td>\n",
       "      <td>NaN</td>\n",
       "      <td>NaN</td>\n",
       "      <td>NaN</td>\n",
       "      <td>NaN</td>\n",
       "      <td>NaN</td>\n",
       "      <td>1.0</td>\n",
       "      <td>NaN</td>\n",
       "    </tr>\n",
       "  </tbody>\n",
       "</table>\n",
       "<p>10 rows × 27 columns</p>\n",
       "</div>"
      ],
      "text/plain": [
       "   RANK NOC CODE                         NOC      Continent  Men Athletes  \\\n",
       "0   1.0      NOR                      Norway         Europe            53   \n",
       "1   2.0      GER                     Germany         Europe            96   \n",
       "2   3.0      CHN  People's Republic of China           Asia            94   \n",
       "3   4.0      USA               United States  North America           118   \n",
       "4   5.0      SWE                      Sweden         Europe            62   \n",
       "5   6.0      NED                 Netherlands         Europe            21   \n",
       "6   7.0      AUT                     Austria         Europe            62   \n",
       "7   8.0      SUI                 Switzerland         Europe            92   \n",
       "8   9.0      ROC   Russian Olympic Committee    Europe/Asia           110   \n",
       "9  10.0      FRA                      France         Europe            50   \n",
       "\n",
       "   Women Athletes  Total Athletes  Gold  Silver  Bronze  ...  Figure Skating  \\\n",
       "0              31              84    16       8      13  ...             NaN   \n",
       "1              49             145    12      10       5  ...             NaN   \n",
       "2              86             180     9       4       2  ...             1.0   \n",
       "3             108             226     8      10       7  ...             3.0   \n",
       "4              59             121     8       5       5  ...             2.0   \n",
       "5              20              41     8       5       4  ...             NaN   \n",
       "6              42             104     7       7       4  ...             NaN   \n",
       "7              75             167     7       2       5  ...             NaN   \n",
       "8             104             214     6      12      14  ...             6.0   \n",
       "9              36              86     5       7       2  ...             1.0   \n",
       "\n",
       "   Freestyle Skiing  Ice Hockey  Luge  Nordic Combined  \\\n",
       "0               1.0         NaN   NaN              4.0   \n",
       "1               1.0         NaN   6.0              2.0   \n",
       "2               6.0         NaN   NaN              NaN   \n",
       "3               8.0         1.0   NaN              NaN   \n",
       "4               2.0         NaN   NaN              NaN   \n",
       "5               NaN         NaN   NaN              NaN   \n",
       "6               NaN         NaN   3.0              1.0   \n",
       "7               4.0         NaN   NaN              NaN   \n",
       "8               3.0         1.0   NaN              NaN   \n",
       "9               1.0         NaN   NaN              NaN   \n",
       "\n",
       "   Short Trank Speed Skating  Skeleton  Sky Jumping  Snowboard  Speed Skating  \n",
       "0                        NaN       NaN          1.0        1.0            3.0  \n",
       "1                        NaN       3.0          3.0        NaN            NaN  \n",
       "2                        4.0       1.0          NaN        2.0            1.0  \n",
       "3                        NaN       NaN          NaN        4.0            3.0  \n",
       "4                        NaN       NaN          NaN        NaN            2.0  \n",
       "5                        4.0       1.0          NaN        NaN           12.0  \n",
       "6                        NaN       NaN          2.0        4.0            NaN  \n",
       "7                        NaN       NaN          NaN        1.0            NaN  \n",
       "8                        2.0       NaN          1.0        1.0            2.0  \n",
       "9                        NaN       NaN          NaN        1.0            NaN  \n",
       "\n",
       "[10 rows x 27 columns]"
      ]
     },
     "execution_count": 43,
     "metadata": {},
     "output_type": "execute_result"
    }
   ],
   "source": [
    "olympics.head(10)"
   ]
  },
  {
   "cell_type": "code",
   "execution_count": null,
   "id": "1c539214",
   "metadata": {},
   "outputs": [],
   "source": [
    "# looking for number of rows and columns"
   ]
  },
  {
   "cell_type": "code",
   "execution_count": 44,
   "id": "2bc3d7d1",
   "metadata": {},
   "outputs": [
    {
     "data": {
      "text/plain": [
       "(91, 27)"
      ]
     },
     "execution_count": 44,
     "metadata": {},
     "output_type": "execute_result"
    }
   ],
   "source": [
    "olympics.shape"
   ]
  },
  {
   "cell_type": "code",
   "execution_count": null,
   "id": "0a91482d",
   "metadata": {},
   "outputs": [],
   "source": [
    "# here in dataset olympics there are total 91 rows and 27 columns\n",
    "# showing column names"
   ]
  },
  {
   "cell_type": "code",
   "execution_count": 45,
   "id": "dcce9114",
   "metadata": {},
   "outputs": [
    {
     "data": {
      "text/plain": [
       "Index(['RANK', 'NOC CODE', 'NOC', 'Continent', 'Men Athletes',\n",
       "       'Women Athletes', 'Total Athletes', 'Gold', 'Silver', 'Bronze',\n",
       "       'Total Medals', 'Rank By Total', 'Alpine Skiing', 'Biathlon',\n",
       "       'Bobsleigh', 'Cross Country Skiing', 'Curling', 'Figure Skating',\n",
       "       'Freestyle Skiing', 'Ice Hockey', 'Luge', 'Nordic Combined',\n",
       "       'Short Trank Speed Skating', 'Skeleton', 'Sky Jumping', 'Snowboard',\n",
       "       'Speed Skating'],\n",
       "      dtype='object')"
      ]
     },
     "execution_count": 45,
     "metadata": {},
     "output_type": "execute_result"
    }
   ],
   "source": [
    "olympics.columns"
   ]
  },
  {
   "cell_type": "code",
   "execution_count": null,
   "id": "e8f951fd",
   "metadata": {},
   "outputs": [],
   "source": [
    "# showing columns with total null values"
   ]
  },
  {
   "cell_type": "code",
   "execution_count": 46,
   "id": "94711c22",
   "metadata": {},
   "outputs": [
    {
     "data": {
      "text/plain": [
       "RANK                         62\n",
       "NOC CODE                      0\n",
       "NOC                           0\n",
       "Continent                     0\n",
       "Men Athletes                  0\n",
       "Women Athletes                0\n",
       "Total Athletes                0\n",
       "Gold                          0\n",
       "Silver                        0\n",
       "Bronze                        0\n",
       "Total Medals                  0\n",
       "Rank By Total                62\n",
       "Alpine Skiing                18\n",
       "Biathlon                     22\n",
       "Bobsleigh                    26\n",
       "Cross Country Skiing         20\n",
       "Curling                      23\n",
       "Figure Skating               23\n",
       "Freestyle Skiing             14\n",
       "Ice Hockey                   24\n",
       "Luge                         25\n",
       "Nordic Combined              25\n",
       "Short Trank Speed Skating    21\n",
       "Skeleton                     25\n",
       "Sky Jumping                  21\n",
       "Snowboard                    14\n",
       "Speed Skating                17\n",
       "dtype: int64"
      ]
     },
     "execution_count": 46,
     "metadata": {},
     "output_type": "execute_result"
    }
   ],
   "source": [
    "olympics.isnull().sum()"
   ]
  },
  {
   "cell_type": "code",
   "execution_count": null,
   "id": "eb565075",
   "metadata": {},
   "outputs": [],
   "source": [
    "# checking data having null rank"
   ]
  },
  {
   "cell_type": "markdown",
   "id": "c1fd360d",
   "metadata": {},
   "source": [
    "countries with zero medals with respective columns having null values here with replace null with zero for our convenience"
   ]
  },
  {
   "cell_type": "code",
   "execution_count": 51,
   "id": "0cf136c3",
   "metadata": {},
   "outputs": [],
   "source": [
    "# finding top 10  Countries with highest Gold medals"
   ]
  },
  {
   "cell_type": "code",
   "execution_count": 58,
   "id": "c3577349",
   "metadata": {},
   "outputs": [
    {
     "data": {
      "text/html": [
       "<div>\n",
       "<style scoped>\n",
       "    .dataframe tbody tr th:only-of-type {\n",
       "        vertical-align: middle;\n",
       "    }\n",
       "\n",
       "    .dataframe tbody tr th {\n",
       "        vertical-align: top;\n",
       "    }\n",
       "\n",
       "    .dataframe thead th {\n",
       "        text-align: right;\n",
       "    }\n",
       "</style>\n",
       "<table border=\"1\" class=\"dataframe\">\n",
       "  <thead>\n",
       "    <tr style=\"text-align: right;\">\n",
       "      <th></th>\n",
       "      <th>RANK</th>\n",
       "      <th>NOC</th>\n",
       "      <th>Gold</th>\n",
       "    </tr>\n",
       "  </thead>\n",
       "  <tbody>\n",
       "    <tr>\n",
       "      <th>0</th>\n",
       "      <td>1.0</td>\n",
       "      <td>Norway</td>\n",
       "      <td>16</td>\n",
       "    </tr>\n",
       "    <tr>\n",
       "      <th>1</th>\n",
       "      <td>2.0</td>\n",
       "      <td>Germany</td>\n",
       "      <td>12</td>\n",
       "    </tr>\n",
       "    <tr>\n",
       "      <th>2</th>\n",
       "      <td>3.0</td>\n",
       "      <td>People's Republic of China</td>\n",
       "      <td>9</td>\n",
       "    </tr>\n",
       "    <tr>\n",
       "      <th>3</th>\n",
       "      <td>4.0</td>\n",
       "      <td>United States</td>\n",
       "      <td>8</td>\n",
       "    </tr>\n",
       "    <tr>\n",
       "      <th>4</th>\n",
       "      <td>5.0</td>\n",
       "      <td>Sweden</td>\n",
       "      <td>8</td>\n",
       "    </tr>\n",
       "    <tr>\n",
       "      <th>5</th>\n",
       "      <td>6.0</td>\n",
       "      <td>Netherlands</td>\n",
       "      <td>8</td>\n",
       "    </tr>\n",
       "    <tr>\n",
       "      <th>6</th>\n",
       "      <td>7.0</td>\n",
       "      <td>Austria</td>\n",
       "      <td>7</td>\n",
       "    </tr>\n",
       "    <tr>\n",
       "      <th>7</th>\n",
       "      <td>8.0</td>\n",
       "      <td>Switzerland</td>\n",
       "      <td>7</td>\n",
       "    </tr>\n",
       "    <tr>\n",
       "      <th>8</th>\n",
       "      <td>9.0</td>\n",
       "      <td>Russian Olympic Committee</td>\n",
       "      <td>6</td>\n",
       "    </tr>\n",
       "    <tr>\n",
       "      <th>9</th>\n",
       "      <td>10.0</td>\n",
       "      <td>France</td>\n",
       "      <td>5</td>\n",
       "    </tr>\n",
       "  </tbody>\n",
       "</table>\n",
       "</div>"
      ],
      "text/plain": [
       "   RANK                         NOC  Gold\n",
       "0   1.0                      Norway    16\n",
       "1   2.0                     Germany    12\n",
       "2   3.0  People's Republic of China     9\n",
       "3   4.0               United States     8\n",
       "4   5.0                      Sweden     8\n",
       "5   6.0                 Netherlands     8\n",
       "6   7.0                     Austria     7\n",
       "7   8.0                 Switzerland     7\n",
       "8   9.0   Russian Olympic Committee     6\n",
       "9  10.0                      France     5"
      ]
     },
     "execution_count": 58,
     "metadata": {},
     "output_type": "execute_result"
    }
   ],
   "source": [
    "olympics[['RANK','NOC','Gold']].sort_values(by=['RANK']).head(10)"
   ]
  },
  {
   "cell_type": "code",
   "execution_count": null,
   "id": "6993bde5",
   "metadata": {},
   "outputs": [],
   "source": [
    "# finding top 10 Countries with highest number of total medals"
   ]
  },
  {
   "cell_type": "code",
   "execution_count": 59,
   "id": "2047f542",
   "metadata": {},
   "outputs": [
    {
     "data": {
      "text/html": [
       "<div>\n",
       "<style scoped>\n",
       "    .dataframe tbody tr th:only-of-type {\n",
       "        vertical-align: middle;\n",
       "    }\n",
       "\n",
       "    .dataframe tbody tr th {\n",
       "        vertical-align: top;\n",
       "    }\n",
       "\n",
       "    .dataframe thead th {\n",
       "        text-align: right;\n",
       "    }\n",
       "</style>\n",
       "<table border=\"1\" class=\"dataframe\">\n",
       "  <thead>\n",
       "    <tr style=\"text-align: right;\">\n",
       "      <th></th>\n",
       "      <th>Rank By Total</th>\n",
       "      <th>NOC</th>\n",
       "      <th>Total Medals</th>\n",
       "    </tr>\n",
       "  </thead>\n",
       "  <tbody>\n",
       "    <tr>\n",
       "      <th>0</th>\n",
       "      <td>1.0</td>\n",
       "      <td>Norway</td>\n",
       "      <td>37</td>\n",
       "    </tr>\n",
       "    <tr>\n",
       "      <th>8</th>\n",
       "      <td>2.0</td>\n",
       "      <td>Russian Olympic Committee</td>\n",
       "      <td>32</td>\n",
       "    </tr>\n",
       "    <tr>\n",
       "      <th>1</th>\n",
       "      <td>3.0</td>\n",
       "      <td>Germany</td>\n",
       "      <td>27</td>\n",
       "    </tr>\n",
       "    <tr>\n",
       "      <th>10</th>\n",
       "      <td>4.0</td>\n",
       "      <td>Canada</td>\n",
       "      <td>26</td>\n",
       "    </tr>\n",
       "    <tr>\n",
       "      <th>3</th>\n",
       "      <td>5.0</td>\n",
       "      <td>United States</td>\n",
       "      <td>25</td>\n",
       "    </tr>\n",
       "    <tr>\n",
       "      <th>4</th>\n",
       "      <td>6.0</td>\n",
       "      <td>Sweden</td>\n",
       "      <td>18</td>\n",
       "    </tr>\n",
       "    <tr>\n",
       "      <th>6</th>\n",
       "      <td>6.0</td>\n",
       "      <td>Austria</td>\n",
       "      <td>18</td>\n",
       "    </tr>\n",
       "    <tr>\n",
       "      <th>11</th>\n",
       "      <td>6.0</td>\n",
       "      <td>Japan</td>\n",
       "      <td>18</td>\n",
       "    </tr>\n",
       "    <tr>\n",
       "      <th>5</th>\n",
       "      <td>9.0</td>\n",
       "      <td>Netherlands</td>\n",
       "      <td>17</td>\n",
       "    </tr>\n",
       "    <tr>\n",
       "      <th>12</th>\n",
       "      <td>9.0</td>\n",
       "      <td>Italy</td>\n",
       "      <td>17</td>\n",
       "    </tr>\n",
       "  </tbody>\n",
       "</table>\n",
       "</div>"
      ],
      "text/plain": [
       "    Rank By Total                        NOC  Total Medals\n",
       "0             1.0                     Norway            37\n",
       "8             2.0  Russian Olympic Committee            32\n",
       "1             3.0                    Germany            27\n",
       "10            4.0                     Canada            26\n",
       "3             5.0              United States            25\n",
       "4             6.0                     Sweden            18\n",
       "6             6.0                    Austria            18\n",
       "11            6.0                      Japan            18\n",
       "5             9.0                Netherlands            17\n",
       "12            9.0                      Italy            17"
      ]
     },
     "execution_count": 59,
     "metadata": {},
     "output_type": "execute_result"
    }
   ],
   "source": [
    "olympics[['Rank By Total','NOC','Total Medals']].sort_values(by=['Rank By Total']).head(10)"
   ]
  },
  {
   "cell_type": "code",
   "execution_count": null,
   "id": "42db042b",
   "metadata": {},
   "outputs": [],
   "source": [
    "# finding top 10 Countries with highest number of Total Athletes"
   ]
  },
  {
   "cell_type": "code",
   "execution_count": 63,
   "id": "51833e3d",
   "metadata": {},
   "outputs": [
    {
     "data": {
      "text/html": [
       "<div>\n",
       "<style scoped>\n",
       "    .dataframe tbody tr th:only-of-type {\n",
       "        vertical-align: middle;\n",
       "    }\n",
       "\n",
       "    .dataframe tbody tr th {\n",
       "        vertical-align: top;\n",
       "    }\n",
       "\n",
       "    .dataframe thead th {\n",
       "        text-align: right;\n",
       "    }\n",
       "</style>\n",
       "<table border=\"1\" class=\"dataframe\">\n",
       "  <thead>\n",
       "    <tr style=\"text-align: right;\">\n",
       "      <th></th>\n",
       "      <th>NOC</th>\n",
       "      <th>Total Athletes</th>\n",
       "    </tr>\n",
       "  </thead>\n",
       "  <tbody>\n",
       "    <tr>\n",
       "      <th>3</th>\n",
       "      <td>United States</td>\n",
       "      <td>226</td>\n",
       "    </tr>\n",
       "    <tr>\n",
       "      <th>10</th>\n",
       "      <td>Canada</td>\n",
       "      <td>218</td>\n",
       "    </tr>\n",
       "    <tr>\n",
       "      <th>8</th>\n",
       "      <td>Russian Olympic Committee</td>\n",
       "      <td>214</td>\n",
       "    </tr>\n",
       "    <tr>\n",
       "      <th>2</th>\n",
       "      <td>People's Republic of China</td>\n",
       "      <td>180</td>\n",
       "    </tr>\n",
       "    <tr>\n",
       "      <th>7</th>\n",
       "      <td>Switzerland</td>\n",
       "      <td>167</td>\n",
       "    </tr>\n",
       "    <tr>\n",
       "      <th>1</th>\n",
       "      <td>Germany</td>\n",
       "      <td>145</td>\n",
       "    </tr>\n",
       "    <tr>\n",
       "      <th>11</th>\n",
       "      <td>Japan</td>\n",
       "      <td>123</td>\n",
       "    </tr>\n",
       "    <tr>\n",
       "      <th>4</th>\n",
       "      <td>Sweden</td>\n",
       "      <td>121</td>\n",
       "    </tr>\n",
       "    <tr>\n",
       "      <th>12</th>\n",
       "      <td>Italy</td>\n",
       "      <td>118</td>\n",
       "    </tr>\n",
       "    <tr>\n",
       "      <th>21</th>\n",
       "      <td>Czech Republic</td>\n",
       "      <td>116</td>\n",
       "    </tr>\n",
       "  </tbody>\n",
       "</table>\n",
       "</div>"
      ],
      "text/plain": [
       "                           NOC  Total Athletes\n",
       "3                United States             226\n",
       "10                      Canada             218\n",
       "8    Russian Olympic Committee             214\n",
       "2   People's Republic of China             180\n",
       "7                  Switzerland             167\n",
       "1                      Germany             145\n",
       "11                       Japan             123\n",
       "4                       Sweden             121\n",
       "12                       Italy             118\n",
       "21              Czech Republic             116"
      ]
     },
     "execution_count": 63,
     "metadata": {},
     "output_type": "execute_result"
    }
   ],
   "source": [
    "olympics[['NOC','Total Athletes']].sort_values(by=['Total Athletes'],ascending=False).head(10)"
   ]
  },
  {
   "cell_type": "code",
   "execution_count": 64,
   "id": "23616577",
   "metadata": {},
   "outputs": [],
   "source": [
    "# finding top 5 Countries with highest number of Female Athletes\n",
    "#df1 = df.loc[:, df.columns != col]"
   ]
  },
  {
   "cell_type": "code",
   "execution_count": 66,
   "id": "058f848a",
   "metadata": {},
   "outputs": [
    {
     "data": {
      "text/html": [
       "<div>\n",
       "<style scoped>\n",
       "    .dataframe tbody tr th:only-of-type {\n",
       "        vertical-align: middle;\n",
       "    }\n",
       "\n",
       "    .dataframe tbody tr th {\n",
       "        vertical-align: top;\n",
       "    }\n",
       "\n",
       "    .dataframe thead th {\n",
       "        text-align: right;\n",
       "    }\n",
       "</style>\n",
       "<table border=\"1\" class=\"dataframe\">\n",
       "  <thead>\n",
       "    <tr style=\"text-align: right;\">\n",
       "      <th></th>\n",
       "      <th>NOC</th>\n",
       "      <th>Women Athletes</th>\n",
       "    </tr>\n",
       "  </thead>\n",
       "  <tbody>\n",
       "    <tr>\n",
       "      <th>3</th>\n",
       "      <td>United States</td>\n",
       "      <td>108</td>\n",
       "    </tr>\n",
       "    <tr>\n",
       "      <th>10</th>\n",
       "      <td>Canada</td>\n",
       "      <td>106</td>\n",
       "    </tr>\n",
       "    <tr>\n",
       "      <th>8</th>\n",
       "      <td>Russian Olympic Committee</td>\n",
       "      <td>104</td>\n",
       "    </tr>\n",
       "    <tr>\n",
       "      <th>2</th>\n",
       "      <td>People's Republic of China</td>\n",
       "      <td>86</td>\n",
       "    </tr>\n",
       "    <tr>\n",
       "      <th>7</th>\n",
       "      <td>Switzerland</td>\n",
       "      <td>75</td>\n",
       "    </tr>\n",
       "  </tbody>\n",
       "</table>\n",
       "</div>"
      ],
      "text/plain": [
       "                           NOC  Women Athletes\n",
       "3                United States             108\n",
       "10                      Canada             106\n",
       "8    Russian Olympic Committee             104\n",
       "2   People's Republic of China              86\n",
       "7                  Switzerland              75"
      ]
     },
     "execution_count": 66,
     "metadata": {},
     "output_type": "execute_result"
    }
   ],
   "source": [
    "olympics[['NOC','Women Athletes']].sort_values(by=['Women Athletes'],ascending=False).head(5)"
   ]
  },
  {
   "cell_type": "code",
   "execution_count": 99,
   "id": "2bb08356",
   "metadata": {},
   "outputs": [],
   "source": [
    "# finding total male and female athletes\n",
    "# olympics.loc[:,olympics.columns.isin(['Men Athletes','Women Athletes'])].sum()\n",
    "# alternate way"
   ]
  },
  {
   "cell_type": "code",
   "execution_count": 98,
   "id": "9c7c063a",
   "metadata": {},
   "outputs": [
    {
     "data": {
      "text/plain": [
       "Men Athletes      1599\n",
       "Women Athletes    1302\n",
       "dtype: int64"
      ]
     },
     "execution_count": 98,
     "metadata": {},
     "output_type": "execute_result"
    }
   ],
   "source": [
    "Athletes=olympics[['Men Athletes','Women Athletes']].sum()\n",
    "Athletes"
   ]
  },
  {
   "cell_type": "code",
   "execution_count": null,
   "id": "88a26bb3",
   "metadata": {},
   "outputs": [],
   "source": [
    "#finding total gold,silver,bronze medals"
   ]
  },
  {
   "cell_type": "code",
   "execution_count": 105,
   "id": "e9568575",
   "metadata": {},
   "outputs": [
    {
     "data": {
      "text/plain": [
       "Gold      109\n",
       "Silver    109\n",
       "Bronze    109\n",
       "dtype: int64"
      ]
     },
     "execution_count": 105,
     "metadata": {},
     "output_type": "execute_result"
    }
   ],
   "source": [
    "Total_medals=olympics[['Gold','Silver','Bronze']].sum()\n",
    "Total_medals"
   ]
  },
  {
   "cell_type": "code",
   "execution_count": null,
   "id": "e80a4e5c",
   "metadata": {},
   "outputs": [],
   "source": [
    "#sum of total medals"
   ]
  },
  {
   "cell_type": "code",
   "execution_count": 106,
   "id": "3b1e7c1d",
   "metadata": {},
   "outputs": [
    {
     "data": {
      "text/plain": [
       "327"
      ]
     },
     "execution_count": 106,
     "metadata": {},
     "output_type": "execute_result"
    }
   ],
   "source": [
    "Total_medals.sum()"
   ]
  },
  {
   "cell_type": "code",
   "execution_count": null,
   "id": "17de49b6",
   "metadata": {},
   "outputs": [],
   "source": [
    "#finding sports with total medals sorting it to descending order"
   ]
  },
  {
   "cell_type": "code",
   "execution_count": 91,
   "id": "bd91067e",
   "metadata": {},
   "outputs": [],
   "source": [
    "Sports_with_total_medals=olympics.loc[:,~olympics.columns.isin(['RANK','NOC CODE','NOC','Continent','Men Athletes','Women Athletes','Total Athletes','Gold','Silver','Bronze','Total Medals','Rank By Total'])].sum().sort_values(ascending=False)"
   ]
  },
  {
   "cell_type": "code",
   "execution_count": 108,
   "id": "3f33bc67",
   "metadata": {},
   "outputs": [
    {
     "data": {
      "text/plain": [
       "Speed Skating                42.0\n",
       "Freestyle Skiing             37.0\n",
       "Cross Country Skiing         36.0\n",
       "Alpine Skiing                33.0\n",
       "Biathlon                     33.0\n",
       "Snowboard                    33.0\n",
       "Short Trank Speed Skating    27.0\n",
       "Figure Skating               17.0\n",
       "Sky Jumping                  15.0\n",
       "Bobsleigh                    12.0\n",
       "Luge                         11.0\n",
       "Curling                       9.0\n",
       "Nordic Combined               9.0\n",
       "Ice Hockey                    6.0\n",
       "Skeleton                      6.0\n",
       "dtype: float64"
      ]
     },
     "execution_count": 108,
     "metadata": {},
     "output_type": "execute_result"
    }
   ],
   "source": [
    "Sports_with_total_medals"
   ]
  },
  {
   "cell_type": "code",
   "execution_count": 109,
   "id": "051ec511",
   "metadata": {},
   "outputs": [],
   "source": [
    "#finding count of countries by continent"
   ]
  },
  {
   "cell_type": "code",
   "execution_count": 121,
   "id": "9797f677",
   "metadata": {},
   "outputs": [
    {
     "data": {
      "text/plain": [
       "Europe           46\n",
       "Asia             19\n",
       "North America     8\n",
       "South America     7\n",
       "Africa            6\n",
       "Oceania           3\n",
       "Europe/Asia       2\n",
       "Name: Continent, dtype: int64"
      ]
     },
     "execution_count": 121,
     "metadata": {},
     "output_type": "execute_result"
    }
   ],
   "source": [
    "Country_count=olympics['Continent'].value_counts()\n",
    "Country_count"
   ]
  }
 ],
 "metadata": {
  "kernelspec": {
   "display_name": "Python 3 (ipykernel)",
   "language": "python",
   "name": "python3"
  },
  "language_info": {
   "codemirror_mode": {
    "name": "ipython",
    "version": 3
   },
   "file_extension": ".py",
   "mimetype": "text/x-python",
   "name": "python",
   "nbconvert_exporter": "python",
   "pygments_lexer": "ipython3",
   "version": "3.9.12"
  }
 },
 "nbformat": 4,
 "nbformat_minor": 5
}
